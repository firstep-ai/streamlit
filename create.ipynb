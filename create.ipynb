{
 "cells": [
  {
   "cell_type": "code",
   "execution_count": 1,
   "metadata": {},
   "outputs": [],
   "source": [
    "from rag import DocumentLoader, ChromaRag"
   ]
  },
  {
   "cell_type": "code",
   "execution_count": 2,
   "metadata": {},
   "outputs": [
    {
     "name": "stderr",
     "output_type": "stream",
     "text": [
      "INFO:root:Chroma directory chroma does not exist, creating new Chroma instance\n",
      "INFO:chromadb.telemetry.product.posthog:Anonymized telemetry enabled. See                     https://docs.trychroma.com/telemetry for more information.\n",
      "INFO:httpx:HTTP Request: POST https://api.openai.com/v1/embeddings \"HTTP/1.1 200 OK\"\n"
     ]
    }
   ],
   "source": [
    "from langchain_openai import OpenAIEmbeddings\n",
    "from pathlib import Path\n",
    "rag = ChromaRag(\n",
    "    persist_directory=r\"chroma\",\n",
    "    embedding_fun=OpenAIEmbeddings(model=\"text-embedding-3-large\"),\n",
    ")\n",
    "file_path = \"test\"\n",
    "document_list = DocumentLoader.from_files(Path(file_path))\n",
    "vector_ids = rag.save_documents(documents=document_list)"
   ]
  },
  {
   "cell_type": "code",
   "execution_count": 3,
   "metadata": {},
   "outputs": [
    {
     "name": "stderr",
     "output_type": "stream",
     "text": [
      "INFO:httpx:HTTP Request: POST https://api.openai.com/v1/embeddings \"HTTP/1.1 200 OK\"\n",
      "WARNING:chromadb.segment.impl.vector.local_persistent_hnsw:Number of requested results 10 is greater than number of elements in index 3, updating n_results = 3\n"
     ]
    }
   ],
   "source": [
    "results = rag.similarity_search(query=\"How to apply eye ointment\", k=10)"
   ]
  },
  {
   "cell_type": "code",
   "execution_count": 4,
   "metadata": {},
   "outputs": [
    {
     "data": {
      "text/plain": [
       "[Document(id='c8e34c61-5f88-4857-9657-fc0d48d810d2', metadata={'source': 'test\\\\A Step-by-Step Guide on How to Apply Eye Ointment.md'}, page_content='# A Step-by-Step Guide on How to Apply Eye Ointment\\n\\nMedication Information Leaflet\\n\\nA Step-by-Step Guide on How to Apply Eye Ointment\\n-------------------------------------------------\\n\\n![](https://ch-api.healthhub.sg/api/public/content/c44dbe4295f840488a4a854783e8a21f?v=3d1c49da)\\n\\nImportant Information\\n---------------------\\n\\n* Read the label on the tube carefully before using the eye ointment.\\n* Using a mirror may make the application of eye ointment easier.\\n* Record the date opened on the tube of eye ointment. Throw it away immediately once contaminated or after reaching its in-use shelf life as recommended by the manufacturer.\\n* If you need to apply both the eye drop and ointment, you should apply the eye drop first. Wait for at least 5 minutes before applying the eye ointment.\\n* If you need to apply more than one eye ointment, wait for at least 10 minutes before applying the next eye ointment.\\n* Applying eye ointments may cause your vision to become blurry for a short period of time. You should avoid driving, operating machinery, or doing things in places with poor lighting until your vision clears.\\n\\nFor Contact Lens Wearers\\n------------------------\\n\\n* Remove your contact lens before applying the ointment. You can put them on 30 minutes after applying the eye ointment.\\n* Contact lens wearers who are advised by a doctor NOT to wear contact lenses should strictly follow the doctor’s advice.\\n\\nDisclaimer\\n----------\\n\\nIf you take more than the recommended dose, please seek medical advice immediately. The information provided on this page does not replace information from your healthcare professional. Please consult your healthcare professional for more information.\\n\\n*This article is jointly developed by members of the National Medication Information workgroup. The workgroup consists of cluster partners (National Healthcare Group, National University Health System and SingHealth), community pharmacies (Guardian, Unity and Watsons) and Pharmaceutical Society of Singapore. The content does not reflect drug availability and supply information in pharmacies and healthcare institutions. You are advised to check with the respective institutions for such information.*\\n\\n*Last updated on Jun 2021*\\n\\nThis article was last reviewed on\\nThursday, August 19, 2021'),\n",
       " Document(id='9538dddc-d803-4719-bb0b-5dbb8b0b88d5', metadata={'source': 'test\\\\A Step-By-Step Guide On How To Instil Eye Drops.md'}, page_content='# A Step-By-Step Guide On How To Instil Eye Drops\\n\\nMedication Information Leaflet\\n\\nInstilling Eye Drops for Patient\\n--------------------------------\\n\\n![](https://ch-api.healthhub.sg/api/public/content/99c754c502eb49e7b084c9c6bbc7c4d2?v=f7c30b26)\\n\\nInstilling Eye Drops for Yourself\\n---------------------------------\\n\\n![](https://ch-api.healthhub.sg/api/public/content/a0061c27464e4d1091a97b3325efcb0a?v=279b7d4d)\\n\\nImportant Information\\n---------------------\\n\\n* Before using the eye drops, read the label on the bottle carefully.\\n* Record the date opened on the eye drop bottle. Throw it away immediately once contaminated or after reaching its in-use shelf life as recommended by the manufacturer.\\n* If you need to apply eye drops and ointment together, you should apply the eye drops first before applying the ointment. Wait for 5 minutes before applying another eye drop or ointment.\\n* Some eye drops or ointments may cause temporary blurring of vision.\\n  + If you experience blurred vision, you should avoid driving or doing things in places with poor lighting.\\n\\nFor Contact Lens Wearers\\n------------------------\\n\\n* Remove your contact lens before each application of medication.\\n* If you are using hard lens, you can put them on directly after applying the eye drops.\\n* If you are using soft lens, you can put them on 30 minutes after applying the eye drops. Otherwise, your lens may be damaged by the preservatives present in the eye drops.\\n* If you need to apply eye drops twice a day, it is recommended that you apply them once in the morning before you put on your lens, and at the end of the day after you remove your lens.\\n\\nDisclaimer\\n----------\\n\\nIf you take more than the recommended dose, please seek medical advice immediately. The information provided on this page does not replace information from your healthcare professional. Please consult your healthcare professional for more information.\\n\\n*This article is jointly developed by members of the National Medication Information workgroup. The workgroup consists of cluster partners (National Healthcare Group, National University Health System and SingHealth), community pharmacies (Guardian, Unity and Watsons)\\xa0and\\xa0Pharmaceutical Society of Singapore.*\\n\\n\\xa0*Last updated on March 2020*\\n\\nThis article was last reviewed on\\nMonday, December 07, 2020'),\n",
       " Document(id='ca7c5323-6d96-46a0-bcc6-4fefc4eccc9e', metadata={'source': 'test\\\\Abacavir.md'}, page_content='# Abacavir\\n\\nMedication Information Leaflet\\n\\nWhat is this medication for?\\n----------------------------\\n\\nAbacavir is an antiretroviral medication used for treating human immunodeficiency virus (HIV) infection. It works by preventing the virus from reproducing, and hence, reducing the amount of virus in your body. This increases the CD4 cell count in your body. CD4 cells are a type of immune cells that help your body fight off infections.\\xa0\\n\\nAbacavir is not a cure for HIV infection. It must be taken consistently every day to slow the progression of the disease.\\n\\nHow should I take or use this medication?\\n-----------------------------------------\\n\\n* Abacavir is always given in combination with other antiretroviral medication. Do not stop taking your medication without consulting checking with your healthcare professional.\\n* It is important to take the antiretroviral combination therapy exactly as prescribed every day.\\n* Do not miss any doses as this may make the medication less effective.\\n* You may take this medication with or without food.\\n\\nWhat should I do if I forget to take or use this medication?\\n------------------------------------------------------------\\n\\nIf you forget to take a dose, take it as soon as you remember. Then take your next dose at the usual time. Do not take two doses to make up for the missed dose.\\xa0\\n\\nWhat precautions should I take when taking or using this medication?\\n--------------------------------------------------------------------\\n\\nInform your healthcare professional if:\\xa0\\n\\n* You are allergic to this medication or any of the other ingredients of this medication\\n* You are pregnant, planning to become pregnant, or breastfeeding\\n* You are taking any other medications, including supplements, traditional medications and herbal remedies\\n* You have heart problems, smoke or have a medical condition that increases your risk of heart disease such as high blood pressure, high cholesterol, or diabetes\\n\\nWhat are some common side effects of this medication?\\n-----------------------------------------------------\\n\\n* Headache\\n  + Mild painkiller (Paracetamol) can be taken to reduce the pain\\n* Tiredness\\n* Nausea or vomiting\\n  + Try taking Abacavir with or after food\\n  + Avoid foods with high fat content\\xa0and eat small frequent meals\\n  + Try sucking on hard candy to reduce the nausea feeling\\n* Dreams/sleep disorders such as bad dreams\\n\\nInform your healthcare professional if these side effects persist or are intolerable.\\n\\nWhat are some rare but serious side-effects that I need to seek medical advice immediately?\\n-------------------------------------------------------------------------------------------\\n\\nAbacavir can cause a serious allergy reaction known as Abacavir-associated hypersensitivity reaction. This is characterised by:\\n\\n* Fever\\n* Rash\\n* Gastrointestinal symptoms (including nausea, vomiting, diarrhoea, or stomach pain)\\n* Flu-like symptoms\\n* Extreme tiredness or achiness\\n* Shortness of breath\\n* Cough\\n* Sore throat\\n\\nIt can occur any time during the treatment with Abacavir but is more likely during the first 6 weeks of treatment initiation. If you experience any of these symptoms, you should stop your medication and see your healthcare professional immediately. You are more likely to develop a hypersensitivity reaction to Abacavir if you have the HLA-B\\\\*5701 gene. If you have been tested positive for this gene, your physician will not commence you on Abacavir therapy.\\n\\nRarely, Abacavir can cause a build-up of acid in your blood (lactic acidosis). Consult your doctor if you experience signs of lactic acidosis such as:\\n\\n* Fast breathing or shortness of breath\\n* Fast or irregular heartbeat\\n* Dizziness or light-headedness\\n* Stomach discomfort\\n* Nausea or vomiting\\n* Extreme tiredness or weakness\\n* Muscle pain or cramps\\n\\nLiver problem can occur in people taking Abacavir. Consult your doctor if you experience signs of liver problem such as:\\n\\n* Yellowing of the skin and eye white\\n* Dark-coloured urine\\n* Light-coloured stools\\n* Loss of appetite\\n* Nausea\\n* Pain on the right side of the stomach\\n\\nA higher chance of heart attack was seen in people who took Abacavir. It is not known if this effect is caused by Abacavir. Seek medical consult immediately if you experience signs of heart attack such as:\\n\\n* Pressure or tightness of the chest\\n* Chest pain that radiates to the left arm, back or neck region\\n* Shortness of breath\\n* Cold sweat\\n* Nausea or vomiting\\n\\nWhat food or medication should I avoid when I take or use this medication?\\n--------------------------------------------------------------------------\\n\\nNot applicable\\xa0\\n\\nHow should I store this medication?\\n-----------------------------------\\n\\nStore in a cool and dry place, away from direct sunlight. Keep this medication away from children.\\xa0\\n\\nHow do I throw away this medication safely?\\n-------------------------------------------\\n\\nPack the medication into a bag and bring it back to the pharmacy where you received the medication from.\\n\\nDisclaimer\\n----------\\n\\nPlease take note that the above is not a complete list of all possible side effects. If you have any concerns about your medication or if you have other side effects that you think are caused by this medication, please consult your doctor or pharmacist.\\n\\nIf you take more than the recommended dose, please seek medical advice immediately. The information provided on this page does not replace information from your healthcare professional. Please consult your healthcare professional for more information.\\n\\n*This article is jointly developed by members of the National Medication Information workgroup. The workgroup consists of cluster partners (National Healthcare Group, National University Health System and SingHealth), community pharmacies (Guardian, Unity and Watsons) and Pharmaceutical Society of Singapore. The content does not reflect drug availability and supply information in pharmacies and healthcare institutions. You are advised to check with the respective institutions for such information.*\\n\\n*Last updated on August 2023*\\n\\nThis article was last reviewed on\\nWednesday, August 28, 2024')]"
      ]
     },
     "execution_count": 4,
     "metadata": {},
     "output_type": "execute_result"
    }
   ],
   "source": [
    "results"
   ]
  }
 ],
 "metadata": {
  "kernelspec": {
   "display_name": "streamlit",
   "language": "python",
   "name": "python3"
  },
  "language_info": {
   "codemirror_mode": {
    "name": "ipython",
    "version": 3
   },
   "file_extension": ".py",
   "mimetype": "text/x-python",
   "name": "python",
   "nbconvert_exporter": "python",
   "pygments_lexer": "ipython3",
   "version": "3.12.9"
  }
 },
 "nbformat": 4,
 "nbformat_minor": 2
}
